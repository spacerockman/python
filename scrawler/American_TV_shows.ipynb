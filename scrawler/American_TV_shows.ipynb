{
 "cells": [
  {
   "cell_type": "code",
   "execution_count": 40,
   "metadata": {
    "collapsed": true
   },
   "outputs": [
    {
     "name": "stdout",
     "output_type": "stream",
     "text": [
      "资源到处完成，请查看超人.csv 文件\n"
     ]
    }
   ],
   "source": [
    "# import csv\n",
    "# import urllib.request\n",
    "# import re\n",
    "# from bs4 import BeautifulSoup\n",
    "#\n",
    "# url = 'https://www.mjf2020.com/?s='\n",
    "# headers = {\n",
    "#     'User-Agent': 'Mozilla/5.0 (Macintosh; Intel Mac OS X 10_15_7) AppleWebKit/537.36 (KHTML, like Gecko) '\n",
    "#                   'Chrome/92.0.4515.131 Safari/537.36 '\n",
    "# }\n",
    "#\n",
    "# sub_page_list = []\n",
    "# sub_page_list_1080 = []\n",
    "# sub_page_magnet_list_1080 = []\n",
    "# obj1 = re.compile(r'<h2 class=\"thumbnail\">(?P<test1>.*?)'\n",
    "#                   r'<img src=.*?onmouseout=\"this.style.*? href=\"(?P<subUrl>.*?)>', re.S)\n",
    "#\n",
    "# sub_page_reObj = re.compile(r'<ul class=\"vc_tta-tabs-list\">.*?'\n",
    "#                             r'<li class=\"vc_tta-tab vc_active\".*?'\n",
    "#                             r'<li class=\"vc_tta-tab\" data-vc-tab><a href=\"(?P<subUrl_1080>.*?)\" data-vc-tabs.*?1080p\"', re.S)\n",
    "#\n",
    "# sub_page_1080_reObj = re.compile(r'<p style=\"text-align: right;\" alt=\"(?P<detailName>.*?)\".*?'\n",
    "#                                  r'<a class=\"button white\" href=\"(?P<magnet>.*?)\"</p></div>', re.S)\n",
    "#\n",
    "# print(\"输入你要搜索的剧名:\")\n",
    "# show_name = input()\n",
    "# filename = '{}'.format(show_name)\n",
    "# filename_result = \"/Users/xujintao/workspace/python/scrawler/\" + filename + '.csv'\n",
    "# f = open(filename_result, mode=\"w\",encoding=\"utf-8\")\n",
    "# csvWriter = csv.writer(f)\n",
    "# csvWriter.writerow(['名称', '下载链接'])\n",
    "#\n",
    "#\n",
    "# # 中文转义\n",
    "# show_name_quoted = urllib.parse.quote(show_name)\n",
    "# # 拼接url字符\n",
    "# result_url = '{}{}'.format(url, show_name_quoted)\n",
    "# # 设置请求\n",
    "# request = urllib.request.Request(result_url, headers=headers, method='GET')\n",
    "# # 发送请求\n",
    "# response = urllib.request.urlopen(request)\n",
    "# # 页面转码成UTF-8\n",
    "# result = response.read().decode(\"utf-8\")\n",
    "#\n",
    "# # 获取子页面的链接\n",
    "# sub_urls = obj1.finditer(result)\n",
    "# for sub_url in sub_urls:\n",
    "#     sub_page_list.append(sub_url.group('subUrl'))\n",
    "#\n",
    "# for sub_url in sub_page_list:\n",
    "#     sub_request = urllib.request.Request(sub_url, headers=headers, method=\"GET\")\n",
    "#     sub_response = urllib.request.urlopen(sub_request)\n",
    "#     sub_result = sub_response.read().decode('utf-8')\n",
    "#     result_1080 = sub_page_reObj.finditer(sub_result)\n",
    "#     for i in result_1080:\n",
    "#         sub_page_list_1080.append(sub_url+i.group('subUrl_1080'))\n",
    "#\n",
    "# for sub_url_1080 in sub_page_list_1080:\n",
    "#     print('进入1080page了，',sub_url_1080)\n",
    "#\n",
    "#     sub_1080_request = urllib.request.Request(sub_url_1080, headers=headers,method=\"GET\")\n",
    "#     sub_1080_response = urllib.request.urlopen(sub_1080_request)\n",
    "#     # sub_1080_results = sub_1080_response.read().decode('utf-8')\n",
    "#     # result_1080_urls = sub_page_1080_reObj.finditer(sub_1080_results)\n",
    "#     print('准备进入循环打印过滤后的数据了..↓')\n",
    "#     # for item in result_1080_urls:\n",
    "#     #     sub_page_magnet_list_1080.append(item.group(\"detailName\"))\n",
    "#         # print('数据类型是：'+type(url))\n",
    "#         # csvWriter.writerows(item.groupdict().values())\n",
    "#         # print(item.groupdict().values())\n",
    "#     soup = BeautifulSoup(sub_1080_response, 'lxml')\n",
    "#     print(soup.find_all(name='li'))\n",
    "#     print(\"done\")\n",
    "# print(sub_page_magnet_list_1080)\n",
    "#\n",
    "# response.close()\n",
    "#\n",
    "\n",
    "show_name = input(\"请输入文字\")\n",
    "\n",
    "print(\"{}{}{}\".format(\"资源到处完成，请查看\",show_name,\".csv 文件\"))"
   ]
  }
 ],
 "metadata": {
  "kernelspec": {
   "display_name": "Python 3",
   "language": "python",
   "name": "python3"
  },
  "language_info": {
   "codemirror_mode": {
    "name": "ipython",
    "version": 2
   },
   "file_extension": ".py",
   "mimetype": "text/x-python",
   "name": "python",
   "nbconvert_exporter": "python",
   "pygments_lexer": "ipython2",
   "version": "2.7.6"
  }
 },
 "nbformat": 4,
 "nbformat_minor": 0
}